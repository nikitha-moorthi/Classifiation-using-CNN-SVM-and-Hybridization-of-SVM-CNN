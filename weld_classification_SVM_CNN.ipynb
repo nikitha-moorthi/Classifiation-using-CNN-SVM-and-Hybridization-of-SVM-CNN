{
 "cells": [
  {
   "cell_type": "code",
   "execution_count": 1,
   "metadata": {},
   "outputs": [
    {
     "data": {
      "text/plain": [
       "'2.5.0'"
      ]
     },
     "execution_count": 1,
     "metadata": {},
     "output_type": "execute_result"
    }
   ],
   "source": [
    "# Importing the libraries\n",
    "import tensorflow as tf\n",
    "from tensorflow.keras.preprocessing.image import ImageDataGenerator\n",
    "train_dir = \"F:\\\\ME_3rdsem\\\\project\\\\PA\\\\dataset\\\\train\"\n",
    "validation_dir = \"F:\\\\ME_3rdsem\\\\project\\\\PA\\\\dataset\\\\test\"\n",
    "tf.__version__"
   ]
  },
  {
   "cell_type": "code",
   "execution_count": 5,
   "metadata": {},
   "outputs": [
    {
     "name": "stdout",
     "output_type": "stream",
     "text": [
      "Found 564 images belonging to 3 classes.\n",
      "Found 234 images belonging to 3 classes.\n"
     ]
    }
   ],
   "source": [
    "\n",
    "# Part 1 - Data Preprocessing\n",
    "\n",
    "# Preprocessing the Training set\n",
    "train_datagen = ImageDataGenerator(rescale = 1./255,\n",
    "                                   shear_range = 0.2,\n",
    "                                   zoom_range = 0.2,\n",
    "                                   horizontal_flip = True)\n",
    "\n",
    "training_set = train_datagen.flow_from_directory(train_dir,\n",
    "                                                 target_size = (64, 64),\n",
    "                                                 batch_size = 20,\n",
    "                                                 class_mode = 'categorical')\n",
    "\n",
    "# Preprocessing the Test set\n",
    "test_datagen = ImageDataGenerator(rescale = 1./255)\n",
    "test_set = test_datagen.flow_from_directory(validation_dir,\n",
    "                                            target_size = (64, 64),\n",
    "                                            batch_size = 20,\n",
    "                                            class_mode = 'categorical')"
   ]
  },
  {
   "cell_type": "code",
   "execution_count": 6,
   "metadata": {},
   "outputs": [
    {
     "name": "stdout",
     "output_type": "stream",
     "text": [
      "Model: \"sequential_1\"\n",
      "_________________________________________________________________\n",
      "Layer (type)                 Output Shape              Param #   \n",
      "=================================================================\n",
      "conv2d_2 (Conv2D)            (None, 32, 32, 32)        896       \n",
      "_________________________________________________________________\n",
      "max_pooling2d_2 (MaxPooling2 (None, 16, 16, 32)        0         \n",
      "_________________________________________________________________\n",
      "conv2d_3 (Conv2D)            (None, 16, 16, 32)        9248      \n",
      "_________________________________________________________________\n",
      "max_pooling2d_3 (MaxPooling2 (None, 8, 8, 32)          0         \n",
      "_________________________________________________________________\n",
      "flatten_1 (Flatten)          (None, 2048)              0         \n",
      "_________________________________________________________________\n",
      "dense_2 (Dense)              (None, 128)               262272    \n",
      "_________________________________________________________________\n",
      "dense_3 (Dense)              (None, 3)                 387       \n",
      "=================================================================\n",
      "Total params: 272,803\n",
      "Trainable params: 272,803\n",
      "Non-trainable params: 0\n",
      "_________________________________________________________________\n"
     ]
    }
   ],
   "source": [
    "\n",
    "from tensorflow.keras.layers import Conv2D\n",
    "from tensorflow.keras.layers import Dense\n",
    "from tensorflow.keras.regularizers import l2\n",
    "# Part 2 - Building the CNN\n",
    "# Initialising the CNN\n",
    "cnn = tf.keras.models.Sequential()\n",
    "\n",
    "# Step 1 - Convolution\n",
    "cnn.add(tf.keras.layers.Conv2D(filters=32,padding=\"same\",kernel_size=3, activation='relu', strides=2, input_shape=[64, 64, 3]))\n",
    "\n",
    "# Step 2 - Pooling\n",
    "cnn.add(tf.keras.layers.MaxPool2D(pool_size=2, strides=2))\n",
    "\n",
    "# Adding a second convolutional layer\n",
    "cnn.add(tf.keras.layers.Conv2D(filters=32,padding='same',kernel_size=3, activation='relu'))\n",
    "cnn.add(tf.keras.layers.MaxPool2D(pool_size=2, strides=2))\n",
    "\n",
    "# Step 3 - Flattening\n",
    "cnn.add(tf.keras.layers.Flatten())\n",
    "\n",
    "# Step 4 - Full Connection\n",
    "cnn.add(tf.keras.layers.Dense(units=128, activation='relu'))\n",
    "\n",
    "\n",
    "## for mulitclassification\n",
    "cnn.add(Dense(3, kernel_regularizer=tf.keras.regularizers.l2(0.01),activation\n",
    "             ='softmax'))\n",
    "cnn.compile(optimizer = 'adam', loss = 'squared_hinge', metrics = ['accuracy'])\n",
    "cnn.summary()"
   ]
  },
  {
   "cell_type": "code",
   "execution_count": 7,
   "metadata": {},
   "outputs": [
    {
     "name": "stdout",
     "output_type": "stream",
     "text": [
      "Epoch 1/15\n",
      "29/29 [==============================] - 8s 275ms/step - loss: 1.2567 - accuracy: 0.5727 - val_loss: 1.8083 - val_accuracy: 0.0171\n",
      "Epoch 2/15\n",
      "29/29 [==============================] - 8s 262ms/step - loss: 0.9694 - accuracy: 0.8103 - val_loss: 2.0149 - val_accuracy: 0.0000e+00\n",
      "Epoch 3/15\n",
      "29/29 [==============================] - 7s 261ms/step - loss: 0.9368 - accuracy: 0.8191 - val_loss: 1.9084 - val_accuracy: 0.0342\n",
      "Epoch 4/15\n",
      "29/29 [==============================] - 8s 265ms/step - loss: 0.9260 - accuracy: 0.8280 - val_loss: 1.9932 - val_accuracy: 0.0128\n",
      "Epoch 5/15\n",
      "29/29 [==============================] - 8s 291ms/step - loss: 0.9111 - accuracy: 0.8280 - val_loss: 1.9887 - val_accuracy: 0.0128\n",
      "Epoch 6/15\n",
      "29/29 [==============================] - 8s 266ms/step - loss: 0.9102 - accuracy: 0.8298 - val_loss: 2.0048 - val_accuracy: 0.0000e+00\n",
      "Epoch 7/15\n",
      "29/29 [==============================] - 8s 280ms/step - loss: 0.9048 - accuracy: 0.8298 - val_loss: 1.9776 - val_accuracy: 0.0171\n",
      "Epoch 8/15\n",
      "29/29 [==============================] - 8s 274ms/step - loss: 0.9011 - accuracy: 0.8298 - val_loss: 1.9861 - val_accuracy: 0.0128\n",
      "Epoch 9/15\n",
      "29/29 [==============================] - 8s 273ms/step - loss: 0.9002 - accuracy: 0.8298 - val_loss: 1.9759 - val_accuracy: 0.0128\n",
      "Epoch 10/15\n",
      "29/29 [==============================] - 8s 291ms/step - loss: 0.8961 - accuracy: 0.8298 - val_loss: 1.9386 - val_accuracy: 0.0171\n",
      "Epoch 11/15\n",
      "29/29 [==============================] - 8s 286ms/step - loss: 0.8935 - accuracy: 0.8298 - val_loss: 1.9542 - val_accuracy: 0.0171\n",
      "Epoch 12/15\n",
      "29/29 [==============================] - 8s 275ms/step - loss: 0.8775 - accuracy: 0.8457 - val_loss: 1.8808 - val_accuracy: 0.0000e+00\n",
      "Epoch 13/15\n",
      "29/29 [==============================] - 8s 264ms/step - loss: 0.7831 - accuracy: 0.9326 - val_loss: 1.7423 - val_accuracy: 0.1410\n",
      "Epoch 14/15\n",
      "29/29 [==============================] - 7s 259ms/step - loss: 0.7559 - accuracy: 0.9415 - val_loss: 1.9784 - val_accuracy: 0.0000e+00\n",
      "Epoch 15/15\n",
      "29/29 [==============================] - 8s 265ms/step - loss: 0.7061 - accuracy: 0.9805 - val_loss: 1.9911 - val_accuracy: 0.0000e+00\n"
     ]
    }
   ],
   "source": [
    "# Part 3 - Training the CNN\n",
    "\n",
    "# Compiling the CNN\n",
    "#cnn.compile(optimizer = 'adam', loss = 'hinge', metrics = ['accuracy'])\n",
    "\n",
    "# Training the CNN on the Training set and evaluating it on the Test set\n",
    "r=cnn.fit(x = training_set, validation_data = test_set, epochs = 15)"
   ]
  },
  {
   "cell_type": "code",
   "execution_count": 8,
   "metadata": {},
   "outputs": [
    {
     "data": {
      "image/png": "[encoded data removed]",
      "text/plain": [
       "<Figure size 432x288 with 1 Axes>"
      ]
     },
     "metadata": {
      "needs_background": "light"
     },
     "output_type": "display_data"
    },
    {
     "data": {
      "image/png": "[encoded data removed]",
      "text/plain": [
       "<Figure size 432x288 with 1 Axes>"
      ]
     },
     "metadata": {
      "needs_background": "light"
     },
     "output_type": "display_data"
    },
    {
     "data": {
      "text/plain": [
       "<Figure size 432x288 with 0 Axes>"
      ]
     },
     "metadata": {},
     "output_type": "display_data"
    }
   ],
   "source": [
    "\n",
    "import matplotlib.pyplot as plt\n",
    "\n",
    "# plot the accuracy\n",
    "plt.plot(r.history['accuracy'], label='train acc')\n",
    "plt.plot(r.history['val_accuracy'], label='val acc')\n",
    "plt.legend()\n",
    "plt.title('Training and validation accuracy')\n",
    "plt.xlabel('Epochs'),plt.ylabel('Accuracy')\n",
    "plt.show()\n",
    "plt.savefig('AccVal_acc')\n",
    "\n",
    "# plot the loss\n",
    "plt.plot(r.history['loss'], label='train loss')\n",
    "plt.plot(r.history['val_loss'], label='val loss')\n",
    "plt.legend()\n",
    "plt.title('Training and validation loss')\n",
    "plt.xlabel('Epochs'),plt.ylabel('Loss')\n",
    "plt.show()\n",
    "plt.savefig('LossVal_loss')\n"
   ]
  },
  {
   "cell_type": "code",
   "execution_count": 9,
   "metadata": {},
   "outputs": [],
   "source": [
    "# Part 4 - Making a single prediction\n",
    "\n",
    "import numpy as np\n",
    "from tensorflow.keras.preprocessing import image\n",
    "test_image = image.load_img('F:\\\\ME_3rdsem\\\\project\\\\PA\\\\dataset\\\\test\\\\goodweld\\\\frame_01032.png', target_size = (64,64))\n",
    "test_image = image.img_to_array(test_image)\n",
    "test_image=test_image/255\n",
    "test_image = np.expand_dims(test_image, axis = 0)\n",
    "result = cnn.predict(test_image)"
   ]
  },
  {
   "cell_type": "code",
   "execution_count": 10,
   "metadata": {},
   "outputs": [
    {
     "data": {
      "text/plain": [
       "array([[0.01094511, 0.98597103, 0.00308386]], dtype=float32)"
      ]
     },
     "execution_count": 10,
     "metadata": {},
     "output_type": "execute_result"
    }
   ],
   "source": [
    "result"
   ]
  },
  {
   "cell_type": "code",
   "execution_count": 11,
   "metadata": {},
   "outputs": [],
   "source": [
    "import numpy as np\n",
    "from tensorflow.keras.preprocessing import image\n",
    "test_image = image.load_img('F:\\\\ME_3rdsem\\\\project\\\\PA\\\\dataset\\\\test\\\\contamination\\\\frame_01838.png', target_size = (64,64))\n",
    "test_image = image.img_to_array(test_image)\n",
    "test_image=test_image/255\n",
    "test_image = np.expand_dims(test_image, axis = 0)\n",
    "result = cnn.predict(test_image)"
   ]
  },
  {
   "cell_type": "code",
   "execution_count": 12,
   "metadata": {},
   "outputs": [
    {
     "data": {
      "text/plain": [
       "array([[9.9950171e-01, 4.9826241e-04, 3.4529812e-08]], dtype=float32)"
      ]
     },
     "execution_count": 12,
     "metadata": {},
     "output_type": "execute_result"
    }
   ],
   "source": [
    "result"
   ]
  },
  {
   "cell_type": "code",
   "execution_count": 13,
   "metadata": {},
   "outputs": [],
   "source": [
    "import numpy as np\n",
    "from tensorflow.keras.preprocessing import image\n",
    "test_image = image.load_img('F:\\\\ME_3rdsem\\\\project\\\\PA\\\\dataset\\\\test\\\\IF\\\\frame_00873.png', target_size = (64,64))\n",
    "test_image = image.img_to_array(test_image)\n",
    "test_image=test_image/255\n",
    "test_image = np.expand_dims(test_image, axis = 0)\n",
    "result = cnn.predict(test_image)"
   ]
  },
  {
   "cell_type": "code",
   "execution_count": 14,
   "metadata": {},
   "outputs": [
    {
     "data": {
      "text/plain": [
       "array([[2.4569582e-09, 2.9542496e-05, 9.9997044e-01]], dtype=float32)"
      ]
     },
     "execution_count": 14,
     "metadata": {},
     "output_type": "execute_result"
    }
   ],
   "source": [
    "result"
   ]
  }
 ],
 "metadata": {
  "kernelspec": {
   "display_name": "Python 3.9.4 64-bit",
   "language": "python",
   "name": "python3"
  },
  "language_info": {
   "codemirror_mode": {
    "name": "ipython",
    "version": 3
   },
   "file_extension": ".py",
   "mimetype": "text/x-python",
   "name": "python",
   "nbconvert_exporter": "python",
   "pygments_lexer": "ipython3",
   "version": "3.9.4"
  },
  "vscode": {
   "interpreter": {
    "hash": "c081257499a92776a7ff5343ee4d85420a7950a6ae97b0cb2aee7a7ddd41b7f2"
   }
  }
 },
 "nbformat": 4,
 "nbformat_minor": 4
}
